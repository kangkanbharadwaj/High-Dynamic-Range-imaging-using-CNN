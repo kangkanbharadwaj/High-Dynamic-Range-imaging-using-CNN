{
 "cells": [
  {
   "cell_type": "markdown",
   "metadata": {
    "collapsed": true
   },
   "source": [
    "# Creating LDR folders"
   ]
  },
  {
   "cell_type": "code",
   "execution_count": null,
   "metadata": {
    "collapsed": true
   },
   "outputs": [],
   "source": [
    "import glob\n",
    "import PIL\n",
    "from PIL import Image\n",
    "import subprocess as sp\n",
    "\n",
    "count = 0\n",
    "file_list = glob.glob('/misc/lmbraid18/bharadwk/data/data*/')\n",
    "\n",
    "for paths in file_list:\n",
    "    \n",
    "    tmp_list = []    \n",
    "    ldr = glob.glob('%s/*.png' %(paths))\n",
    "\n",
    "    for items in ldr:\n",
    "        \n",
    "        subfolder = items.split('/')[6] \n",
    "        subfolder = subfolder.split('_')[0]        \n",
    "        \n",
    "        if '_cc' in items:\n",
    "            subfolder = subfolder+'_CC'\n",
    "            \n",
    "        if subfolder not in tmp_list:            \n",
    "            cmd = 'mkdir /misc/lmbraid18/bharadwk/scaled_data_ldr/%s' %(subfolder)\n",
    "            sp.Popen(cmd, shell=True)            \n",
    "            \n",
    "        tmp_list.append(subfolder)"
   ]
  },
  {
   "cell_type": "markdown",
   "metadata": {},
   "source": [
    "# Create hdr folders"
   ]
  },
  {
   "cell_type": "code",
   "execution_count": null,
   "metadata": {
    "collapsed": true
   },
   "outputs": [],
   "source": [
    "import glob\n",
    "import subprocess as sp\n",
    "file_list = glob.glob('/misc/lmbraid18/bharadwk/data/hdr/*')\n",
    "\n",
    "for items in file_list:\n",
    "    items = items.split('/')[6]\n",
    "    items = items.split('.')[0]\n",
    "    cmd = 'mkdir /misc/lmbraid18/bharadwk/scaled_data_hdr/%s' %(items)\n",
    "    sp.Popen(cmd, shell=True)"
   ]
  },
  {
   "cell_type": "markdown",
   "metadata": {},
   "source": [
    "# LDR IMAGE SCALING"
   ]
  },
  {
   "cell_type": "code",
   "execution_count": null,
   "metadata": {
    "collapsed": true,
    "scrolled": true
   },
   "outputs": [],
   "source": [
    "import PIL\n",
    "from PIL import Image\n",
    "import glob\n",
    "import subprocess as sp\n",
    "\n",
    "dir_list = []\n",
    "dir_list = glob.glob('/misc/lmbraid18/bharadwk/data/data*')\n",
    "\n",
    "for paths in dir_list:\n",
    "    \n",
    "    subfolder = paths.split('/')[5]    \n",
    "    #cmd = 'mkdir /misc/lmbraid18/bharadwk/scaled_data/%s' %(subfolder)\n",
    "    #sp.Popen(cmd, shell=True)\n",
    "    #print(subfolder)\n",
    "    #paths = paths+'*.png'    \n",
    "    img_list = glob.glob(\"%s/*.png\" %(paths))    \n",
    "    new_img_list = []\n",
    "    tmp_list = []\n",
    "\n",
    "    for i in range(0,len(img_list)): \n",
    "        img_name = ''\n",
    "        ximg_name = ''\n",
    "        count = 0\n",
    "        for j in range(0, len(img_list)):\n",
    "            \n",
    "            img_name = img_list[i].split('/')[6]            \n",
    "            ximg_name = img_list[j].split('/')[6]\n",
    "            \n",
    "            if 'cc' in img_name:\n",
    "                name_list = []\n",
    "                name_list = img_name.split('_')\n",
    "                img_name, shtspd = name_list[0], name_list[3]\n",
    "                img_name = img_name + '_' + shtspd + '_CC'\n",
    "            \n",
    "            else:\n",
    "                name_list = []\n",
    "                name_list = img_name.split('_')\n",
    "                img_name, shtspd = name_list[0], name_list[3]\n",
    "                img_name = img_name + '_' + shtspd\n",
    "            \n",
    "            if 'cc' in ximg_name:\n",
    "                xname_list = []\n",
    "                xname_list = ximg_name.split('_')\n",
    "                ximg_name, shtspd = xname_list[0], xname_list[3]\n",
    "                ximg_name = ximg_name + '_' + shtspd + '_CC'\n",
    "                \n",
    "            else:\n",
    "                xname_list = []\n",
    "                xname_list = ximg_name.split('_')\n",
    "                ximg_name, shtspd = xname_list[0], xname_list[3]\n",
    "                ximg_name = ximg_name + '_' + shtspd            \n",
    "            \n",
    "            if img_name == ximg_name and ximg_name not in tmp_list:\n",
    "                \n",
    "                count = count + 1                \n",
    "                image_name = ximg_name + '_' + str(count)\n",
    "                new_img_list.append(image_name)\n",
    "                \n",
    "                #Resizing width:\n",
    "                new_width  = 2080\n",
    "                \n",
    "                #Resizing height:\n",
    "                new_height = 1408\n",
    "                \n",
    "                img = Image.open(img_list[j])\n",
    "                #img = img.resize((new_width, new_height), Image.ANTIALIAS) \n",
    "                img.save('/misc/lmbraid18/bharadwk/scaled_data_ldr/%s/%s.png' %(ximg_name,image_name))\n",
    "        \n",
    "        tmp_list.append(img_name)"
   ]
  },
  {
   "cell_type": "markdown",
   "metadata": {},
   "source": [
    "# HDR IMAGE SCALING"
   ]
  },
  {
   "cell_type": "code",
   "execution_count": null,
   "metadata": {
    "collapsed": true,
    "scrolled": true
   },
   "outputs": [],
   "source": [
    "import glob\n",
    "import imageio\n",
    "import numpy as np\n",
    "imageio.plugins.freeimage.download()\n",
    "from PIL import Image\n",
    "\n",
    "xmin_list = []\n",
    "xmax_list = []\n",
    "files = glob.glob('/misc/lmbraid18/bharadwk/hdr_rendered_image/*/*.exr')\n",
    "for paths in files:    \n",
    "    #filename = paths.split('/')[6]    \n",
    "    #filename = filename.split('.')[0]    \n",
    "    img = cv2.imread(paths, cv2.IMREAD_ANYCOLOR | cv2.IMREAD_ANYDEPTH)    \n",
    "    #arry = np.array(img, dtype=np.float32) \n",
    "    xmax_list.append(img.max())\n",
    "    xmin_list.append(img.min())\n",
    "    #arry.resize(2080, 1408, 3)\n",
    "    #imageio.imwrite('/misc/lmbraid18/bharadwk/scaled_data_hdr/%s/%s.hdr' %(filename, filename), img)"
   ]
  },
  {
   "cell_type": "code",
   "execution_count": null,
   "metadata": {
    "collapsed": true,
    "scrolled": true
   },
   "outputs": [],
   "source": [
    "import imageio\n",
    "img = imageio.imread(\"/misc/lmbraid18/bharadwk/scaled_data_hdr/S0160_CC/S0160_CC.hdr\", format='HDR-FI')\n",
    "#arry = np.array(img, dtype=np.float32)\n",
    "#arry.resize(2080, 1408, 3)\n",
    "#imageio.imwrite('/misc/lmbraid18/bharadwk/pfstools-2.0.6/build/src/pfsview/S0010_updated.hdr', arry)\n",
    "print(img.max())\n",
    "print(img.min())"
   ]
  },
  {
   "cell_type": "markdown",
   "metadata": {},
   "source": [
    "# Normalize PNG (0,1)"
   ]
  },
  {
   "cell_type": "code",
   "execution_count": null,
   "metadata": {
    "collapsed": true,
    "scrolled": true
   },
   "outputs": [],
   "source": [
    "image = cv2.imread(\"/misc/lmbraid18/bharadwk/LDR_render_files/3DGRASSFIELD/image_1.png\", cv2.IMREAD_COLOR)  # uint8 image\n",
    "norm_image = np.zeros((800, 800))\n",
    "norm_image = cv2.normalize(image, norm_image, alpha=0, beta=1, norm_type=cv2.NORM_MINMAX, dtype=cv2.CV_32F)\n",
    "print (norm_image)"
   ]
  },
  {
   "cell_type": "markdown",
   "metadata": {},
   "source": [
    "# Create HDF5 for OpenExr files"
   ]
  },
  {
   "cell_type": "code",
   "execution_count": 381,
   "metadata": {
    "collapsed": true,
    "scrolled": true
   },
   "outputs": [],
   "source": [
    "import glob\n",
    "import numpy as np\n",
    "import cv2\n",
    "import h5py\n",
    "import os\n",
    "import re\n",
    "\n",
    "def keyFunc(afilename):\n",
    "    nondigits = re.compile(\"\\D\")\n",
    "    return int(nondigits.sub(\"\", afilename))\n",
    "    \n",
    "\n",
    "ldr_files = glob.glob('/misc/lmbraid18/bharadwk/dataLDR/colorVar')\n",
    "hdr_files =  glob.glob('/misc/lmbraid18/bharadwk/dataHDR/colorVar')\n",
    "\n",
    "for items1 in ldr_files:\n",
    "    for items2 in hdr_files:\n",
    "        \n",
    "        ldr_img = items1.split('/')[5]\n",
    "        hdr_img = items2.split('/')[5]\n",
    "\n",
    "        if ldr_img == hdr_img:\n",
    "\n",
    "            PNGfiles = glob.glob (\"/misc/lmbraid18/bharadwk/dataLDR/%s/*.JPG\" %(ldr_img)) \n",
    "            EXRfiles = glob.glob (\"/misc/lmbraid18/bharadwk/dataLDR/%s/*.exr\" %(ldr_img)) \n",
    "            \n",
    "            X_data1 = []\n",
    "            arr_list = []\n",
    "            name_list = []\n",
    "\n",
    "            for pngFile in sorted(PNGfiles, key=keyFunc):                                        \n",
    "                image1 = cv2.imread (pngFile)\n",
    "                X_data1.append (image1)                \n",
    "                for exrFile in sorted(EXRfiles, key=keyFunc):                                   \n",
    "                    name = exrFile.split('/')[6]\n",
    "                    if name not in name_list:                        \n",
    "                        name_list.append(name)\n",
    "                        image2 = cv2.imread(exrFile, cv2.IMREAD_ANYCOLOR | cv2.IMREAD_ANYDEPTH)                                                \n",
    "                        X_data1.append (image2)                        \n",
    "                        break                    \n",
    "\n",
    "            X_data2 = np.array(np.dstack(X_data1), dtype=np.float32)\n",
    "            X_data2 = np.swapaxes(X_data2, 0, 2)\n",
    "            X_data2 = np.swapaxes(X_data2, 1, 2)\n",
    "            arr_list.append(X_data2)\n",
    "            im_array = np.array(arr_list, dtype=np.float32)            \n",
    "\n",
    "            hdr_list = []            \n",
    "            hdr_path = '/misc/lmbraid18/bharadwk/dataHDR/%s/hdr.exr' %(hdr_img)            \n",
    "            hdr_image = cv2.imread(hdr_path, cv2.IMREAD_ANYCOLOR | cv2.IMREAD_ANYDEPTH)                        \n",
    "            hdr_list.append(hdr_image)\n",
    "            hdr_array = np.array(hdr_list, dtype=np.float32)\n",
    "            hdr_array = np.swapaxes(hdr_array, 2, 3)\n",
    "            hdr_array = np.swapaxes(hdr_array, 1, 2)\n",
    "\n",
    "            with h5py.File('/misc/lmbraid18/bharadwk/workspace/ws1/projectimages_HDRLDR/%s.h5' %(hdr_img)) as hdf:\n",
    "\n",
    "                D1 = hdf.create_dataset('data', data = im_array)\n",
    "                D2 = hdf.create_dataset('hdr', data = hdr_array)"
   ]
  },
  {
   "cell_type": "markdown",
   "metadata": {},
   "source": [
    "# Create HDF5 for shuffled LDR images"
   ]
  },
  {
   "cell_type": "code",
   "execution_count": null,
   "metadata": {
    "collapsed": true
   },
   "outputs": [],
   "source": [
    "import glob\n",
    "import numpy as np\n",
    "import cv2\n",
    "import h5py\n",
    "import os\n",
    "import re\n",
    "import random\n",
    "\n",
    "def keyFunc(afilename):\n",
    "    nondigits = re.compile(\"\\D\")\n",
    "    return int(nondigits.sub(\"\", afilename))\n",
    "    \n",
    "\n",
    "ldr_files = glob.glob('/misc/lmbraid18/bharadwk/LDR_render_files/*')\n",
    "hdr_files =  glob.glob('/misc/lmbraid18/bharadwk/hdr_rendered_image/*')\n",
    "\n",
    "for items1 in ldr_files:\n",
    "    for items2 in hdr_files:\n",
    "        \n",
    "        ldr_img = items1.split('/')[5]\n",
    "        hdr_img = items2.split('/')[5]\n",
    "\n",
    "        if ldr_img == hdr_img:\n",
    "\n",
    "            files = glob.glob (\"/misc/lmbraid18/bharadwk/LDR_render_files/%s/*.png\" %(ldr_img)) \n",
    "            X_data1 = []\n",
    "            arr_list = []\n",
    "\n",
    "            for myFile in sorted(files, key=keyFunc):\n",
    "\n",
    "                image = cv2.imread (myFile)\n",
    "                #image = cv2.imread(hdr_path, cv2.IMREAD_ANYCOLOR | cv2.IMREAD_ANYDEPTH)   \n",
    "                X_data1.append (image)\n",
    "\n",
    "            random.shuffle(X_data1)\n",
    "            X_data2 = np.array(np.dstack(X_data1), dtype=np.float32)\n",
    "            X_data2 = np.swapaxes(X_data2, 0, 2)\n",
    "            X_data2 = np.swapaxes(X_data2, 1, 2)\n",
    "            arr_list.append(X_data2)            \n",
    "            im_array = np.array(arr_list, dtype=np.float32)            \n",
    "\n",
    "            hdr_list = []            \n",
    "            hdr_path = '/misc/lmbraid18/bharadwk/hdr_rendered_image/%s/hdr_image.exr' %(hdr_img)            \n",
    "            hdr_image = cv2.imread(hdr_path, cv2.IMREAD_ANYCOLOR | cv2.IMREAD_ANYDEPTH)                        \n",
    "            hdr_list.append(hdr_image)\n",
    "            hdr_array = np.array(hdr_list, dtype=np.float32)\n",
    "            hdr_array = np.swapaxes(hdr_array, 2, 3)\n",
    "            hdr_array = np.swapaxes(hdr_array, 1, 2)\n",
    "\n",
    "            with h5py.File('/misc/lmbraid18/bharadwk/workspace/ws1/new_training_set_shuffleLDR/%s.h5' %(hdr_img)) as hdf:\n",
    "\n",
    "                D1 = hdf.create_dataset('data', data = im_array)\n",
    "                D2 = hdf.create_dataset('hdr', data = hdr_array)"
   ]
  },
  {
   "cell_type": "markdown",
   "metadata": {},
   "source": [
    "# Split LDR in 10 different datasets and create HDF5"
   ]
  },
  {
   "cell_type": "code",
   "execution_count": null,
   "metadata": {
    "collapsed": true
   },
   "outputs": [],
   "source": [
    "import glob\n",
    "import numpy as np\n",
    "import cv2\n",
    "import h5py\n",
    "import os\n",
    "import re\n",
    "\n",
    "def keyFunc(afilename):\n",
    "    nondigits = re.compile(\"\\D\")\n",
    "    return int(nondigits.sub(\"\", afilename))\n",
    "    \n",
    "\n",
    "ldr_files = glob.glob('/misc/lmbraid18/bharadwk/test_LDR_render_files/*')\n",
    "hdr_files =  glob.glob('/misc/lmbraid18/bharadwk/test_hdr_rendered_image/*')\n",
    "\n",
    "for items1 in ldr_files:\n",
    "    for items2 in hdr_files:\n",
    "        \n",
    "        ldr_img = items1.split('/')[5]\n",
    "        hdr_img = items2.split('/')[5]\n",
    "\n",
    "        if ldr_img == hdr_img:\n",
    "\n",
    "            h5file = h5py.File('/misc/lmbraid18/bharadwk/workspace/ws1/new_test_set_split/%s.h5' %(hdr_img),'a')\n",
    "            files = glob.glob (\"/misc/lmbraid18/bharadwk/test_LDR_render_files/%s/*.png\" %(ldr_img))        \n",
    "            count = 0\n",
    "\n",
    "            for myFile in sorted(files, key=keyFunc):\n",
    "\n",
    "                count = count + 1\n",
    "                X_data1 = []\n",
    "                image = cv2.imread (myFile)\n",
    "                X_data1.append (image)\n",
    "                X_data1 = np.array(X_data1, dtype=np.float32)                \n",
    "                X_data1 = np.swapaxes(X_data1, 2, 3)\n",
    "                X_data1 = np.swapaxes(X_data1, 1, 2)           \n",
    "            \n",
    "                dataset = h5file.create_dataset('data%d' %(count), data = X_data1)\n",
    "\n",
    "            if count == 10:                \n",
    "                hdr_list = []            \n",
    "                hdr_path = '/misc/lmbraid18/bharadwk/test_hdr_rendered_image/%s/hdr_image.exr' %(hdr_img)            \n",
    "                hdr_image = cv2.imread(hdr_path, cv2.IMREAD_ANYCOLOR | cv2.IMREAD_ANYDEPTH)                        \n",
    "                hdr_list.append(hdr_image)\n",
    "                hdr_array = np.array(hdr_list, dtype=np.float32)\n",
    "                hdr_array = np.swapaxes(hdr_array, 2, 3)\n",
    "                hdr_array = np.swapaxes(hdr_array, 1, 2)                \n",
    "                \n",
    "                dataset2 = h5file.create_dataset('hdr', data = hdr_array)\n",
    "            \n",
    "            h5file.close()"
   ]
  },
  {
   "cell_type": "markdown",
   "metadata": {},
   "source": [
    "# Split LDR in 10 different datasets and shuffle and create HDF5"
   ]
  },
  {
   "cell_type": "code",
   "execution_count": null,
   "metadata": {
    "collapsed": true
   },
   "outputs": [],
   "source": [
    "import glob\n",
    "import numpy as np\n",
    "import cv2\n",
    "import h5py\n",
    "import os\n",
    "import re\n",
    "import random\n",
    "\n",
    "def keyFunc(afilename):\n",
    "    nondigits = re.compile(\"\\D\")\n",
    "    return int(nondigits.sub(\"\", afilename))\n",
    "    \n",
    "\n",
    "ldr_files = glob.glob('/misc/lmbraid18/bharadwk/LDR_render_files/*')\n",
    "hdr_files =  glob.glob('/misc/lmbraid18/bharadwk/hdr_rendered_image/*')\n",
    "\n",
    "for items1 in ldr_files:\n",
    "    for items2 in hdr_files:\n",
    "        \n",
    "        ldr_img = items1.split('/')[5]\n",
    "        hdr_img = items2.split('/')[5]\n",
    "\n",
    "        if ldr_img == hdr_img:\n",
    "\n",
    "            h5file = h5py.File('/misc/lmbraid18/bharadwk/workspace/ws1/new_training_set_split_shuffleLDR/%s.h5' %(hdr_img),'a')\n",
    "            files = glob.glob (\"/misc/lmbraid18/bharadwk/LDR_render_files/%s/*.png\" %(ldr_img))        \n",
    "            random.shuffle(files)\n",
    "            count = 0\n",
    "\n",
    "            for myFile in files:\n",
    "\n",
    "                count = count + 1\n",
    "                X_data1 = []\n",
    "                image = cv2.imread (myFile)\n",
    "                X_data1.append (image)\n",
    "                X_data1 = np.array(X_data1, dtype=np.float32)                \n",
    "                X_data1 = np.swapaxes(X_data1, 2, 3)\n",
    "                X_data1 = np.swapaxes(X_data1, 1, 2)           \n",
    "            \n",
    "                dataset = h5file.create_dataset('data%d' %(count), data = X_data1)\n",
    "\n",
    "            if count == 10:                \n",
    "                hdr_list = []            \n",
    "                hdr_path = '/misc/lmbraid18/bharadwk/hdr_rendered_image/%s/hdr_image.exr' %(hdr_img)            \n",
    "                hdr_image = cv2.imread(hdr_path, cv2.IMREAD_ANYCOLOR | cv2.IMREAD_ANYDEPTH)                        \n",
    "                hdr_list.append(hdr_image)\n",
    "                hdr_array = np.array(hdr_list, dtype=np.float32)\n",
    "                hdr_array = np.swapaxes(hdr_array, 2, 3)\n",
    "                hdr_array = np.swapaxes(hdr_array, 1, 2)                \n",
    "                \n",
    "                dataset2 = h5file.create_dataset('hdr', data = hdr_array)\n",
    "            \n",
    "            h5file.close()"
   ]
  },
  {
   "cell_type": "markdown",
   "metadata": {},
   "source": [
    "# Split HDR candidates in 10 different datsets and create HDF5"
   ]
  },
  {
   "cell_type": "code",
   "execution_count": null,
   "metadata": {
    "collapsed": true
   },
   "outputs": [],
   "source": [
    "import glob\n",
    "import numpy as np\n",
    "import cv2\n",
    "import h5py\n",
    "import os\n",
    "import re\n",
    "\n",
    "def keyFunc(afilename):\n",
    "    nondigits = re.compile(\"\\D\")\n",
    "    return int(nondigits.sub(\"\", afilename))\n",
    "    \n",
    "\n",
    "ldr_files = glob.glob('/misc/lmbraid18/bharadwk/test_LDR_render_files/*')\n",
    "hdr_files =  glob.glob('/misc/lmbraid18/bharadwk/test_hdr_rendered_image/*')\n",
    "\n",
    "for items1 in ldr_files:\n",
    "    for items2 in hdr_files:\n",
    "        \n",
    "        ldr_img = items1.split('/')[5]\n",
    "        hdr_img = items2.split('/')[5]\n",
    "\n",
    "        if ldr_img == hdr_img:\n",
    "\n",
    "            h5file = h5py.File('/misc/lmbraid18/bharadwk/workspace/ws1/new_test_set_HDRCandidate/%s.h5' %(hdr_img),'a')\n",
    "            files = glob.glob (\"/misc/lmbraid18/bharadwk/test_LDR_render_files/%s/*.exr\" %(ldr_img))        \n",
    "            count = 0\n",
    "\n",
    "            for myFile in sorted(files, key=keyFunc):\n",
    "\n",
    "                count = count + 1\n",
    "                X_data1 = []\n",
    "                image = cv2.imread(myFile, cv2.IMREAD_ANYCOLOR | cv2.IMREAD_ANYDEPTH)\n",
    "                X_data1.append (image)\n",
    "                X_data1 = np.array(X_data1, dtype=np.float32)                \n",
    "                X_data1 = np.swapaxes(X_data1, 2, 3)\n",
    "                X_data1 = np.swapaxes(X_data1, 1, 2)           \n",
    "            \n",
    "                dataset = h5file.create_dataset('data%d' %(count), data = X_data1)\n",
    "\n",
    "            if count == 10:                \n",
    "                hdr_list = []            \n",
    "                hdr_path = '/misc/lmbraid18/bharadwk/test_hdr_rendered_image/%s/hdr_image.exr' %(hdr_img)            \n",
    "                hdr_image = cv2.imread(hdr_path, cv2.IMREAD_ANYCOLOR | cv2.IMREAD_ANYDEPTH)                        \n",
    "                hdr_list.append(hdr_image)\n",
    "                hdr_array = np.array(hdr_list, dtype=np.float32)\n",
    "                hdr_array = np.swapaxes(hdr_array, 2, 3)\n",
    "                hdr_array = np.swapaxes(hdr_array, 1, 2)                \n",
    "                \n",
    "                dataset2 = h5file.create_dataset('hdr', data = hdr_array)\n",
    "            \n",
    "            h5file.close()"
   ]
  },
  {
   "cell_type": "markdown",
   "metadata": {},
   "source": [
    "# Create HDF5 for .hdr files"
   ]
  },
  {
   "cell_type": "code",
   "execution_count": 42,
   "metadata": {},
   "outputs": [
    {
     "ename": "ValueError",
     "evalue": "bad axis2 argument to swapaxes",
     "output_type": "error",
     "traceback": [
      "\u001b[0;31m---------------------------------------------------------------------------\u001b[0m",
      "\u001b[0;31mValueError\u001b[0m                                Traceback (most recent call last)",
      "\u001b[0;32m<ipython-input-42-5f1f5d885677>\u001b[0m in \u001b[0;36m<module>\u001b[0;34m()\u001b[0m\n\u001b[1;32m     35\u001b[0m \u001b[0;34m\u001b[0m\u001b[0m\n\u001b[1;32m     36\u001b[0m             \u001b[0mX_data2\u001b[0m \u001b[0;34m=\u001b[0m \u001b[0mnp\u001b[0m\u001b[0;34m.\u001b[0m\u001b[0marray\u001b[0m\u001b[0;34m(\u001b[0m\u001b[0mnp\u001b[0m\u001b[0;34m.\u001b[0m\u001b[0mdstack\u001b[0m\u001b[0;34m(\u001b[0m\u001b[0mX_data1\u001b[0m\u001b[0;34m)\u001b[0m\u001b[0;34m,\u001b[0m \u001b[0mdtype\u001b[0m\u001b[0;34m=\u001b[0m\u001b[0mnp\u001b[0m\u001b[0;34m.\u001b[0m\u001b[0mfloat32\u001b[0m\u001b[0;34m)\u001b[0m\u001b[0;34m\u001b[0m\u001b[0m\n\u001b[0;32m---> 37\u001b[0;31m             \u001b[0mX_data2\u001b[0m \u001b[0;34m=\u001b[0m \u001b[0mnp\u001b[0m\u001b[0;34m.\u001b[0m\u001b[0mswapaxes\u001b[0m\u001b[0;34m(\u001b[0m\u001b[0mX_data2\u001b[0m\u001b[0;34m,\u001b[0m \u001b[0;36m2\u001b[0m\u001b[0;34m,\u001b[0m \u001b[0;36m3\u001b[0m\u001b[0;34m)\u001b[0m\u001b[0;34m\u001b[0m\u001b[0m\n\u001b[0m\u001b[1;32m     38\u001b[0m             \u001b[0mX_data2\u001b[0m \u001b[0;34m=\u001b[0m \u001b[0mnp\u001b[0m\u001b[0;34m.\u001b[0m\u001b[0mswapaxes\u001b[0m\u001b[0;34m(\u001b[0m\u001b[0mX_data2\u001b[0m\u001b[0;34m,\u001b[0m \u001b[0;36m1\u001b[0m\u001b[0;34m,\u001b[0m \u001b[0;36m2\u001b[0m\u001b[0;34m)\u001b[0m\u001b[0;34m\u001b[0m\u001b[0m\n\u001b[1;32m     39\u001b[0m             \u001b[0marr_list\u001b[0m\u001b[0;34m.\u001b[0m\u001b[0mappend\u001b[0m\u001b[0;34m(\u001b[0m\u001b[0mX_data2\u001b[0m\u001b[0;34m)\u001b[0m\u001b[0;34m\u001b[0m\u001b[0m\n",
      "\u001b[0;32m/misc/lmbraid18/bharadwk/anaconda3/lib/python3.6/site-packages/numpy/core/fromnumeric.py\u001b[0m in \u001b[0;36mswapaxes\u001b[0;34m(a, axis1, axis2)\u001b[0m\n\u001b[1;32m    499\u001b[0m \u001b[0;34m\u001b[0m\u001b[0m\n\u001b[1;32m    500\u001b[0m     \"\"\"\n\u001b[0;32m--> 501\u001b[0;31m     \u001b[0;32mreturn\u001b[0m \u001b[0m_wrapfunc\u001b[0m\u001b[0;34m(\u001b[0m\u001b[0ma\u001b[0m\u001b[0;34m,\u001b[0m \u001b[0;34m'swapaxes'\u001b[0m\u001b[0;34m,\u001b[0m \u001b[0maxis1\u001b[0m\u001b[0;34m,\u001b[0m \u001b[0maxis2\u001b[0m\u001b[0;34m)\u001b[0m\u001b[0;34m\u001b[0m\u001b[0m\n\u001b[0m\u001b[1;32m    502\u001b[0m \u001b[0;34m\u001b[0m\u001b[0m\n\u001b[1;32m    503\u001b[0m \u001b[0;34m\u001b[0m\u001b[0m\n",
      "\u001b[0;32m/misc/lmbraid18/bharadwk/anaconda3/lib/python3.6/site-packages/numpy/core/fromnumeric.py\u001b[0m in \u001b[0;36m_wrapfunc\u001b[0;34m(obj, method, *args, **kwds)\u001b[0m\n\u001b[1;32m     55\u001b[0m \u001b[0;32mdef\u001b[0m \u001b[0m_wrapfunc\u001b[0m\u001b[0;34m(\u001b[0m\u001b[0mobj\u001b[0m\u001b[0;34m,\u001b[0m \u001b[0mmethod\u001b[0m\u001b[0;34m,\u001b[0m \u001b[0;34m*\u001b[0m\u001b[0margs\u001b[0m\u001b[0;34m,\u001b[0m \u001b[0;34m**\u001b[0m\u001b[0mkwds\u001b[0m\u001b[0;34m)\u001b[0m\u001b[0;34m:\u001b[0m\u001b[0;34m\u001b[0m\u001b[0m\n\u001b[1;32m     56\u001b[0m     \u001b[0;32mtry\u001b[0m\u001b[0;34m:\u001b[0m\u001b[0;34m\u001b[0m\u001b[0m\n\u001b[0;32m---> 57\u001b[0;31m         \u001b[0;32mreturn\u001b[0m \u001b[0mgetattr\u001b[0m\u001b[0;34m(\u001b[0m\u001b[0mobj\u001b[0m\u001b[0;34m,\u001b[0m \u001b[0mmethod\u001b[0m\u001b[0;34m)\u001b[0m\u001b[0;34m(\u001b[0m\u001b[0;34m*\u001b[0m\u001b[0margs\u001b[0m\u001b[0;34m,\u001b[0m \u001b[0;34m**\u001b[0m\u001b[0mkwds\u001b[0m\u001b[0;34m)\u001b[0m\u001b[0;34m\u001b[0m\u001b[0m\n\u001b[0m\u001b[1;32m     58\u001b[0m \u001b[0;34m\u001b[0m\u001b[0m\n\u001b[1;32m     59\u001b[0m     \u001b[0;31m# An AttributeError occurs if the object does not have\u001b[0m\u001b[0;34m\u001b[0m\u001b[0;34m\u001b[0m\u001b[0m\n",
      "\u001b[0;31mValueError\u001b[0m: bad axis2 argument to swapaxes"
     ]
    }
   ],
   "source": [
    "import glob\n",
    "import numpy as np\n",
    "import cv2\n",
    "import imageio\n",
    "import h5py\n",
    "import os\n",
    "import re\n",
    "\n",
    "imageio.plugins.freeimage.download()\n",
    "\n",
    "def keyFunc(afilename):\n",
    "    nondigits = re.compile(\"\\D\")\n",
    "    return int(nondigits.sub(\"\", afilename))\n",
    "    \n",
    "\n",
    "ldr_files = glob.glob('/misc/lmbraid18/bharadwk/dataLDR/realkitchen')\n",
    "hdr_files =  glob.glob('/misc/lmbraid18/bharadwk/dataHDR/realkitchen')\n",
    "\n",
    "for items1 in ldr_files:\n",
    "    for items2 in hdr_files:\n",
    "        \n",
    "        ldr_img = items1.split('/')[5]\n",
    "        hdr_img = items2.split('/')[5]\n",
    "\n",
    "        if ldr_img == hdr_img:\n",
    "\n",
    "            files = glob.glob (\"/misc/lmbraid18/bharadwk/dataLDR/%s/*.JPG\" %(ldr_img)) \n",
    "            X_data1 = []\n",
    "            arr_list = []\n",
    "\n",
    "            for myFile in sorted(files, key=keyFunc):\n",
    "\n",
    "                image = cv2.imread (myFile)\n",
    "                X_data1.append (image)\n",
    "\n",
    "            X_data2 = np.array(np.dstack(X_data1), dtype=np.float32)\n",
    "            X_data2 = np.swapaxes(X_data2, 2, 3)\n",
    "            X_data2 = np.swapaxes(X_data2, 1, 2)\n",
    "            arr_list.append(X_data2)\n",
    "            im_array = np.array(arr_list)    \n",
    "\n",
    "            hdr_list = []\n",
    "            hdr_path = '/misc/lmbraid18/bharadwk/dataHDR/%s/%s.exr' %(hdr_img, hdr_img)\n",
    "            #hdr_image = imageio.imread(hdr_path, format='HDR-FI')\n",
    "            hdr_image = cv2.imread(hdr_path, cv2.IMREAD_ANYCOLOR | cv2.IMREAD_ANYDEPTH)\n",
    "            hdr_list.append(hdr_image)\n",
    "            hdr_array = np.array(hdr_list, dtype=np.float32)\n",
    "            hdr_array = np.swapaxes(hdr_array, 2, 3)\n",
    "            hdr_array = np.swapaxes(hdr_array, 1, 2)\n",
    "\n",
    "            with h5py.File('/misc/lmbraid18/bharadwk/workspace/ws1/projectimages/%s.h5' %(hdr_img)) as hdf:\n",
    "\n",
    "                D1 = hdf.create_dataset('data', data = im_array)\n",
    "                D2 = hdf.create_dataset('hdr', data = hdr_array)"
   ]
  },
  {
   "cell_type": "markdown",
   "metadata": {},
   "source": [
    "# Create the TRAINFILE list"
   ]
  },
  {
   "cell_type": "code",
   "execution_count": null,
   "metadata": {
    "collapsed": true
   },
   "outputs": [],
   "source": [
    "import glob\n",
    "\n",
    "fo = open(\"/misc/lmbraid18/bharadwk/workspace/ws1/new_train_list.txt\", \"w\")\n",
    "file_list = glob.glob(\"/misc/lmbraid18/bharadwk/workspace/ws1/new_training_set/*.h5\")\n",
    "l_o_list = len(file_list)\n",
    "#print l_o_list\n",
    "\n",
    "for i in range (0,l_o_list):    \n",
    "    fo.write(file_list[i])    \n",
    "    fo.write('\\n')\n",
    "fo.close()"
   ]
  },
  {
   "cell_type": "markdown",
   "metadata": {},
   "source": [
    "# Create the TESTFILE list"
   ]
  },
  {
   "cell_type": "code",
   "execution_count": null,
   "metadata": {
    "collapsed": true
   },
   "outputs": [],
   "source": [
    "import glob\n",
    "\n",
    "fo = open(\"/misc/lmbraid18/bharadwk/workspace/ws1/new_test_list.txt\", \"w\")\n",
    "file_list = glob.glob(\"/misc/lmbraid18/bharadwk/workspace/ws1/new_test_set/*.h5\")\n",
    "l_o_list = len(file_list)\n",
    "#print l_o_list\n",
    "\n",
    "for i in range (0,l_o_list):    \n",
    "    fo.write(file_list[i])    \n",
    "    fo.write('\\n')\n",
    "fo.close()"
   ]
  },
  {
   "cell_type": "markdown",
   "metadata": {},
   "source": [
    "# Find the MIN & MAX value of the .EXR files"
   ]
  },
  {
   "cell_type": "code",
   "execution_count": null,
   "metadata": {
    "collapsed": true
   },
   "outputs": [],
   "source": [
    "import cv2\n",
    "import glob\n",
    "import numpy as np\n",
    "\n",
    "hdr_files =  glob.glob('/misc/lmbraid18/bharadwk/test_hdr_rendered_image/*')\n",
    "fo = open('/misc/lmbraid18/bharadwk/workspace/test_min_max3.txt','a')\n",
    "fo.write('{a:^0}{b:^50}{c:^50}'.format(a='Image Name', b='Min Value', c='Max Value'))\n",
    "fo.write('\\n\\n')\n",
    "\n",
    "for paths in hdr_files:\n",
    "    xpaths = paths\n",
    "    hdr_img = xpaths.split('/')[5]\n",
    "    hdr_path = paths+'/hdr_image.exr'    \n",
    "    hdr_image = cv2.imread(hdr_path, cv2.IMREAD_ANYCOLOR | cv2.IMREAD_ANYDEPTH)\n",
    "    hdr_arr = np.array(hdr_image)  \n",
    "    #print (\"Min value\", hdr_arr.min())\n",
    "    #print (\"Max value\", hdr_arr.max())\n",
    "    #print (\"\\n\")\n",
    "    fo.write('{:>0}'.format(str(hdr_img)))    \n",
    "    fo.write('{:>50}'.format(str(hdr_arr.min())))\n",
    "    fo.write('{:>50}'.format(str(hdr_arr.max())))\n",
    "    fo.write('\\n')\n",
    "fo.close()"
   ]
  },
  {
   "cell_type": "markdown",
   "metadata": {},
   "source": [
    "# Converting NAN values in .EXR to '0'"
   ]
  },
  {
   "cell_type": "code",
   "execution_count": null,
   "metadata": {
    "collapsed": true
   },
   "outputs": [],
   "source": [
    "import cv2\n",
    "import math\n",
    "import numpy as np\n",
    "\n",
    "hdr_image = cv2.imread(\"/misc/lmbraid18/bharadwk/tmp1/Balcony5/hdr_image.exr\", cv2.IMREAD_ANYCOLOR | cv2.IMREAD_ANYDEPTH)\n",
    "hdr_array = np.array(hdr_image, dtype=np.float32)\n",
    "hdr_array = np.nan_to_num(hdr_array)\n",
    "cv2.imwrite('/misc/lmbraid18/bharadwk/tmp1/Balcony5/hdr_image.exr',hdr_array) "
   ]
  },
  {
   "cell_type": "markdown",
   "metadata": {},
   "source": [
    "# Normalize the MAX and MIN range"
   ]
  },
  {
   "cell_type": "code",
   "execution_count": null,
   "metadata": {
    "collapsed": true
   },
   "outputs": [],
   "source": [
    "L = min_list + max_list\n",
    "\n",
    "max_val = max(L)\n",
    "min_val = min(L)\n",
    "diff = max_val - min_val\n",
    "norm_list = []\n",
    "\n",
    "for items in L:\n",
    "    items = np.float32(items)\n",
    "    x = (items - min_val)/diff\n",
    "    norm_list.append(x)"
   ]
  },
  {
   "cell_type": "markdown",
   "metadata": {},
   "source": [
    "# Plot loss for training data"
   ]
  },
  {
   "cell_type": "code",
   "execution_count": 14,
   "metadata": {
    "scrolled": true
   },
   "outputs": [
    {
     "data": {
      "image/png": "[encoded data removed]",
      "text/plain": [
       "<matplotlib.figure.Figure at 0x7fbb79d14630>"
      ]
     },
     "metadata": {},
     "output_type": "display_data"
    }
   ],
   "source": [
    "import glob\n",
    "import matplotlib.pyplot as plt\n",
    "import numpy as np\n",
    "\n",
    "log_list = []\n",
    "loss_list = []\n",
    "mean_loss_list = []\n",
    "count1 = 5000\n",
    "count2 = 0\n",
    "x_list = []\n",
    "\n",
    "log_list = sorted(glob.glob('/misc/lmbraid18/bharadwk/workspace/ws1/hdr8-*.log'))\n",
    "\n",
    "for items in log_list:    \n",
    "    mean = 0.0\n",
    "    loss_list = []\n",
    "    filename = items.split('/')[6]     \n",
    "    fo1 = open(items, 'r')\n",
    "    filelist = fo1.readlines()\n",
    "    for pos, xitems in enumerate(filelist):\n",
    "        if 'Train net output' in xitems:\n",
    "            count2 = count2 + 1\n",
    "            loss = 0.0\n",
    "            loss = filelist[pos].split('=')[1]            \n",
    "            loss = loss.split('(')[0]            \n",
    "            loss = float(loss)            \n",
    "            loss_list.append(loss)\n",
    "            \n",
    "            if count2 == count1:\n",
    "                x_list.append(count1)\n",
    "                mean = np.mean(loss_list)\n",
    "                mean_loss_list.append(mean)\n",
    "                count1 = count1 + 5000\n",
    "\n",
    "mean_loss_array = np.asarray(mean_loss_list)\n",
    "x_list_array = np.asarray(x_list)\n",
    "plt.plot(x_list, mean_loss_list)\n",
    "plt.ylabel('l1 norm loss')\n",
    "plt.xlabel('No of iterations')\n",
    "plt.show()"
   ]
  },
  {
   "cell_type": "markdown",
   "metadata": {
    "collapsed": true
   },
   "source": [
    "# Compute PSNR"
   ]
  },
  {
   "cell_type": "code",
   "execution_count": 40,
   "metadata": {
    "scrolled": true
   },
   "outputs": [
    {
     "name": "stdout",
     "output_type": "stream",
     "text": [
      "75 75\n",
      "55.4235247393\n"
     ]
    }
   ],
   "source": [
    "import cv2\n",
    "import math\n",
    "import numpy as np\n",
    "\n",
    "refList = glob.glob(\"/misc/lmbraid18/bharadwk/workspace/ws1/testHDRImages/*.exr\")\n",
    "predList = glob.glob(\"/misc/lmbraid18/bharadwk/workspace/ws1/hdr_snapshot_iter/*.exr\")\n",
    "errEstList = []\n",
    "print (len(refList), len(predList))\n",
    "#for images in imgList:  \n",
    "for predPath, refPath in zip(predList, refList):\n",
    "\n",
    "    pred = cv2.imread(predPath, cv2.IMREAD_ANYCOLOR | cv2.IMREAD_ANYDEPTH)\n",
    "    #pred = pred[0:468,0:628]\n",
    "    #pred = pred[0:446,0:606]\n",
    "    ref = cv2.imread(refPath, cv2.IMREAD_ANYCOLOR | cv2.IMREAD_ANYDEPTH)\n",
    "    #ref = ref[0:468,0:628]\n",
    "    #ref = ref[0:446,0:606]\n",
    "    maxVal = ref.max()\n",
    "    sqrdErr = np.sum((pred.astype(\"float\") - ref.astype(\"float\")) ** 2)/float(pred.shape[0] * pred.shape[1])\n",
    "    errEst = 20*(np.log10(maxVal/sqrdErr))\n",
    "    errEstList.append(errEst)  \n",
    "    #print (errEst)\n",
    "\n",
    "print(np.mean(errEstList))"
   ]
  },
  {
   "cell_type": "markdown",
   "metadata": {},
   "source": [
    "# Converting HDF5 to EXR"
   ]
  },
  {
   "cell_type": "code",
   "execution_count": 41,
   "metadata": {
    "collapsed": true
   },
   "outputs": [],
   "source": [
    "import numpy as np\n",
    "import h5py\n",
    "import cv2\n",
    "import numpy as np\n",
    "import matplotlib.pyplot as plt\n",
    "import glob\n",
    "\n",
    "h5Dir = glob.glob(\"/misc/lmbraid18/bharadwk/workspace/ws1/hdr_snapshot_iter/*.h5\")\n",
    "\n",
    "for h5s in h5Dir:    \n",
    "    fileName = h5s.split('/')[7]\n",
    "    fileName = fileName.split('.')[0]\n",
    "    file    = h5py.File(h5s, 'r')\n",
    "    dataset = file[\"prediction\"]\n",
    "    #dataset = file[\"hdr\"]\n",
    "    xdataset = np.array(dataset, dtype=np.float32)\n",
    "    xdataset = np.swapaxes(xdataset, 1,3)\n",
    "    xdataset = np.swapaxes(xdataset, 1,2)\n",
    "    xdataset = np.squeeze(xdataset, axis=0)\n",
    "    file.close()\n",
    "\n",
    "    cv2.imwrite('/misc/lmbraid18/bharadwk/workspace/ws1/hdr_snapshot_iter/%s.exr' %(fileName),xdataset) "
   ]
  },
  {
   "cell_type": "markdown",
   "metadata": {},
   "source": [
    "# ToneMap the HDR to get PNG using OpenCV"
   ]
  },
  {
   "cell_type": "code",
   "execution_count": 63,
   "metadata": {
    "collapsed": true
   },
   "outputs": [],
   "source": [
    "EXRFiles = glob.glob(\"/misc/lmbraid18/bharadwk/workspace/ws1/hdr_snapshot_iter/*.exr\")\n",
    "\n",
    "for EXRs in EXRFiles:\n",
    "    \n",
    "    EXRName = EXRs.split('/')[7]\n",
    "    EXRName = EXRName.split('.')[0]\n",
    "    hdr_image = cv2.imread(EXRs, cv2.IMREAD_ANYCOLOR | cv2.IMREAD_ANYDEPTH)\n",
    "    tonemap = cv2.createTonemap(gamma=1.3)\n",
    "    #tonemap = cv2.createTonemapMantiuk(gamma=1.3)\n",
    "    res = tonemap.process(hdr_image.copy())\n",
    "    img = np.clip(res*255, 0, 255).astype('uint8')\n",
    "    cv2.imwrite(\"/misc/lmbraid18/bharadwk/workspace/ws1/hdr_snapshot_iter/%s.jpg\" %(EXRName), img)"
   ]
  },
  {
   "cell_type": "markdown",
   "metadata": {},
   "source": [
    "# Different ToneMapping"
   ]
  },
  {
   "cell_type": "code",
   "execution_count": null,
   "metadata": {
    "collapsed": true
   },
   "outputs": [],
   "source": [
    "# Tonemap HDR image\n",
    "hdr_path = '/misc/lmbraid18/bharadwk/workspace/ws1/hdr_snapshot_iter/score_iter_00012.h5.exr'\n",
    "hdr_image = cv2.imread(hdr_path, cv2.IMREAD_ANYCOLOR | cv2.IMREAD_ANYDEPTH)\n",
    "tonemap1 = cv2.createTonemapDurand(gamma=1.3)\n",
    "res_debvec = tonemap1.process(hdr_image.copy())\n",
    "tonemap2 = cv2.createTonemapDurand(gamma=1.3)\n",
    "res_robertson = tonemap2.process(hdr_image.copy())\n",
    "\n",
    "# Convert datatype to 8-bit and save\n",
    "res_debvec_8bit = np.clip(res_debvec*255, 0, 255).astype('uint8')\n",
    "res_robertson_8bit = np.clip(res_robertson*255, 0, 255).astype('uint8')\n",
    " \n",
    "cv2.imwrite(\"/misc/lmbraid18/bharadwk/workspace/ws1/hdr_snapshot_iter/durand.jpg\", res_debvec_8bit)\n",
    "cv2.imwrite(\"/misc/lmbraid18/bharadwk/workspace/ws1/hdr_snapshot_iter_deformation_l2perloc/ldr_robertson.jpg\", res_robertson_8bit)\n",
    "#cv2.imwrite(\"fusion_mertens.jpg\", res_mertens_8bit)\n",
    "\n",
    "tonemap3 = cv2.createTonemapReinhard(gamma=1.3)\n",
    "tonemap4 = cv2.createTonemapMantiuk(gamma=1.3)\n",
    "tonemap5 = cv2.createTonemapDrago(gamma=1.3)\n",
    "tonemap6 = cv2.createTonemap(gamma=1.3)\n",
    "\n",
    "res1 = tonemap3.process(hdr_image.copy())\n",
    "res2 = tonemap4.process(hdr_image.copy())\n",
    "res3 = tonemap5.process(hdr_image.copy())\n",
    "res4 = tonemap6.process(hdr_image.copy())\n",
    "\n",
    "img1 = np.clip(res1*255, 0, 255).astype('uint8')\n",
    "img2 = np.clip(res2*255, 0, 255).astype('uint8')\n",
    "img3 = np.clip(res3*255, 0, 255).astype('uint8')\n",
    "img4 = np.clip(res4*255, 0, 255).astype('uint8')\n",
    "\n",
    "cv2.imwrite(\"/misc/lmbraid18/bharadwk/workspace/ws1/hdr_snapshot_iter/rerinhard.jpg\", img1)\n",
    "cv2.imwrite(\"/misc/lmbraid18/bharadwk/workspace/ws1/hdr_snapshot_iter/mantiuk.jpg\", img2)\n",
    "cv2.imwrite(\"/misc/lmbraid18/bharadwk/workspace/ws1/hdr_snapshot_iter/drago.jpg\", img3)\n",
    "cv2.imwrite(\"/misc/lmbraid18/bharadwk/workspace/ws1/hdr_snapshot_iter/normal.jpg\", img4)"
   ]
  },
  {
   "cell_type": "markdown",
   "metadata": {},
   "source": [
    "# Test all the caffe models in a sequence"
   ]
  },
  {
   "cell_type": "code",
   "execution_count": null,
   "metadata": {
    "collapsed": true
   },
   "outputs": [],
   "source": [
    "import glob\n",
    "import sys, os\n",
    "\n",
    "caffee_list = []\n",
    "caffee_list = sorted(glob.glob('/misc/lmbraid18/bharadwk/workspace/ws1/hdr/*.caffemodel'))\n",
    "\n",
    "for models in caffee_list:\n",
    "    models = models.split('/')[7]\n",
    "    cmd = \"./hdr-test.sh models\"\n",
    "    os.system(cmd)"
   ]
  },
  {
   "cell_type": "markdown",
   "metadata": {},
   "source": [
    "# Constructing a dictionary of no_of_iter to mean_loss_val"
   ]
  },
  {
   "cell_type": "code",
   "execution_count": 37,
   "metadata": {
    "collapsed": true,
    "scrolled": true
   },
   "outputs": [],
   "source": [
    "import glob\n",
    "import numpy as np\n",
    "import collections\n",
    "\n",
    "log_file = []\n",
    "file_list = []\n",
    "loss_list_mean = {}\n",
    "\n",
    "log_file = sorted(glob.glob('/misc/lmbraid18/bharadwk/workspace/ws1/testlogs/hdr_test_hdr_snapshot*.log'))\n",
    "\n",
    "for logs in log_file:    \n",
    "    fo = open(logs,\"r\")\n",
    "    logs = logs.split('/')[7]\n",
    "    logs = logs.split('_')[5]\n",
    "    logs = logs.split('.')[0]\n",
    "    file_list = fo.readlines()\n",
    "    loss_list = []\n",
    "    mean = 0.0\n",
    "    \n",
    "    for pos, xitems in enumerate(file_list):        \n",
    "        if 'Successfully saved 1 blobs' in xitems:            \n",
    "            \n",
    "            pos = pos + 1\n",
    "            tmp_str = file_list[pos]\n",
    "            tmp_str = tmp_str.split('=')[1]\n",
    "            loss_list.append(float(tmp_str))\n",
    "        \n",
    "    mean = np.mean(loss_list)    \n",
    "    loss_list_mean.update({logs:mean})         \n",
    "\n",
    "loss_list_mean = collections.OrderedDict(sorted(loss_list_mean.items(), key=lambda t: len(t[0])))"
   ]
  },
  {
   "cell_type": "code",
   "execution_count": 38,
   "metadata": {
    "scrolled": true
   },
   "outputs": [
    {
     "name": "stdout",
     "output_type": "stream",
     "text": [
      "250000\n",
      "0.128581168133\n"
     ]
    }
   ],
   "source": [
    "print (min(loss_list_mean.items(), key=lambda x: x[1])[0])\n",
    "print (loss_list_mean.get('120000'))\n",
    "#print (loss_list_mean.get('500000'))\n",
    "#print (len(loss_list_mean.values()))\n",
    "#print (loss_list_mean.values())"
   ]
  },
  {
   "cell_type": "markdown",
   "metadata": {},
   "source": [
    "# Train error against Test error"
   ]
  },
  {
   "cell_type": "code",
   "execution_count": 26,
   "metadata": {
    "collapsed": true,
    "scrolled": true
   },
   "outputs": [],
   "source": [
    "import matplotlib.pylab as plt\n",
    "\n",
    "list_keys = list(loss_list_mean.keys())\n",
    "list_values = list(loss_list_mean.values())\n",
    "#list_keys = list_keys[:20]\n",
    "#list_values = list_values[0:20]\n",
    "#print (list_values[0:40])\n",
    "#print (list_values)\n",
    "#keys_array = np.asarray(list_keys)\n",
    "#value_array = np.asarray(list_values)\n",
    "#plt.plot(keys_array, mean_loss_array, 'r')\n",
    "#plt.plot(keys_array, value_array, 'g')\n",
    "#plt.show()"
   ]
  },
  {
   "cell_type": "code",
   "execution_count": 27,
   "metadata": {},
   "outputs": [
    {
     "data": {
      "image/png": "[encoded data removed]",
      "text/plain": [
       "<matplotlib.figure.Figure at 0x7fbb79d1e390>"
      ]
     },
     "metadata": {},
     "output_type": "display_data"
    }
   ],
   "source": [
    "plt.plot(sorted(list_keys), list_values, 'g')\n",
    "plt.show()\n",
    "#plt.savefig(\"/misc/lmbraid18/bharadwk/workspace/ws1/hdr_test_logs_philaug/philaugtgtest.jpg\")"
   ]
  },
  {
   "cell_type": "code",
   "execution_count": null,
   "metadata": {
    "collapsed": true
   },
   "outputs": [],
   "source": [
    "import numpy as np\n",
    "import matplotlib.pyplot as plt\n",
    "import math\n",
    "import glob\n",
    "\n",
    "countRows = []\n",
    "#countRows=np.array(countRows)\n",
    "sigma = 500;\n",
    "count = 5000\n",
    "log_file = []\n",
    "log_file = sorted(glob.glob('/misc/lmbraid18/bharadwk/workspace/ws1/hdr14*.txt'))\n",
    "\n",
    "for network in log_file:    \n",
    "    lossFile = network.split('/')[6]                \n",
    "    loss = np.loadtxt(network, dtype=np.float32, delimiter= ',', skiprows=1, usecols=(0,3))    \n",
    "    filter = np.exp(-4.0 * (np.arange(-4*sigma, 4*sigma + 1, 1) / sigma)**2) / (math.sqrt(2 * math.pi) * sigma)\n",
    "    lossPadded = np.concatenate((np.ones(int(filter.shape[0] / 2)) * loss[0,1], loss[:,1], np.ones(int(filter.shape[0] / 2)) * loss[-1,1]))\n",
    "    lossFiltered = np.convolve(lossPadded, filter, mode=\"valid\")\n",
    "    plt.plot(loss[:,0], lossFiltered, 'b', label='train error') \n",
    "    xloss = list(loss[:,0])\n",
    "    countRows.append(xloss)\n",
    "    plt.ylim(0, 0.20)\n",
    "    plt.hold(True)\n",
    "\n",
    "countRows = sum(countRows, [])\n",
    "print(len(countRows))\n",
    "newArr = np.zeros(len(countRows), dtype=np.float32)\n",
    "for loss in list_values:        \n",
    "    newArr[count-1] = loss\n",
    "    count = count + 5000\n",
    "#plt.plot(countRows, newArr, 'g', label='test error')\n",
    "#plt.legend()\n",
    "plt.show()\n"
   ]
  },
  {
   "cell_type": "markdown",
   "metadata": {},
   "source": [
    "# Extra code for general purpose"
   ]
  },
  {
   "cell_type": "code",
   "execution_count": null,
   "metadata": {
    "collapsed": true
   },
   "outputs": [],
   "source": [
    "import numpy as np\n",
    "import matplotlib.mlab as mlab\n",
    "import matplotlib.pyplot as plt\n",
    "import cv2\n",
    "import numpy as np\n",
    "import itertools\n",
    "\n",
    "fo =  open('/misc/lmbraid18/bharadwk/workspace/ws1/new_train_list.txt','r')\n",
    "hdr_files = fo.readlines()\n",
    "#glob.glob('/misc/lmbraid18/bharadwk/hdr_rendered_image/*')\n",
    "hdrARR = []\n",
    "\n",
    "for items in hdr_files:\n",
    "    dirName = items.split('/')[7]\n",
    "    filename = dirName.split('.')[0]\n",
    "    hdr_path = '/misc/lmbraid18/bharadwk/hdr_rendered_image/%s/hdr_image.exr' %(filename)\n",
    "    hdr_image = cv2.imread(hdr_path, cv2.IMREAD_ANYCOLOR | cv2.IMREAD_ANYDEPTH)\n",
    "    hdrARR.append(hdr_image)\n",
    "    \n",
    "hdr_array = np.array(hdrARR, dtype=np.float32)\n",
    "finHdrARR = hdr_array.ravel()\n",
    "#m3 = np.hstack((m1,m2))\n",
    "#axes = plt.gca()\n",
    "#axes.set_ylim([0,100])\n",
    "#axes.set_xlim([0,10000])\n",
    "fig = plt.figure()\n",
    "mu = np.mean(finHdrARR)\n",
    "sigma = np.std(finHdrARR)\n",
    "num_bins = 50\n",
    "# the histogram of the data\n",
    "n, bins, patches = plt.hist(finHdrARR, num_bins, facecolor='green')\n",
    "# add a 'best fit' line\n",
    "y = mlab.normpdf(bins, mu, sigma)\n",
    "plt.title(\"High Dynamic Range Data frequency\")\n",
    "plt.plot(bins, y, 'r--')\n",
    "plt.xlabel('Range')\n",
    "plt.ylabel('Frequency')\n",
    "\n",
    "# Tweak spacing to prevent clipping of ylabel\n",
    "plt.subplots_adjust(left=0.15)\n",
    "plt.show()"
   ]
  },
  {
   "cell_type": "code",
   "execution_count": null,
   "metadata": {
    "collapsed": true
   },
   "outputs": [],
   "source": [
    "axes = plt.gca()\n",
    "axes.set_ylim([0,10])\n",
    "axes.set_xlim([0,10000])\n",
    "plt.hist(finHdrARR, bins=50, facecolor='green')\n",
    "plt.title(\"High Dynamic Range Data frequency\")\n",
    "plt.xlabel(\"Range\")\n",
    "plt.ylabel(\"Frequency\")\n",
    "plt.show()"
   ]
  },
  {
   "cell_type": "code",
   "execution_count": null,
   "metadata": {
    "collapsed": true
   },
   "outputs": [],
   "source": [
    "a = [-1,-2,3,1,4,5,6]\n",
    "plt.hist(a)\n",
    "plt.show()"
   ]
  },
  {
   "cell_type": "code",
   "execution_count": null,
   "metadata": {
    "collapsed": true
   },
   "outputs": [],
   "source": [
    "import numpy as np\n",
    "import matplotlib.mlab as mlab\n",
    "import matplotlib.pyplot as plt\n",
    "import cv2\n",
    "import numpy as np\n",
    "import itertools\n",
    "\n",
    "fo =  open('/misc/lmbraid18/bharadwk/workspace/ws1/new_train_list.txt','r')\n",
    "ldr_files = fo.readlines()\n",
    "\n",
    "for items in ldr_files:\n",
    "    ldrARR = []\n",
    "    dirName = items.split('/')[7]\n",
    "    filename = dirName.split('.')[0]    \n",
    "    ldrDir = glob.glob (\"/misc/lmbraid18/bharadwk/LDR_render_files/%s/*.png\" %(filename))\n",
    "    for ldrs in ldrDir:\n",
    "        image = cv2.imread (ldrs)\n",
    "        ldrARR.append(image)\n",
    "    \n",
    "\n",
    "ldr_array = np.array(ldrARR)\n",
    "finLdrARR = ldr_array.ravel()\n",
    "#m3 = np.hstack((m1,m2))\n",
    "\n",
    "fig = plt.figure()\n",
    "mu = np.mean(finLdrARR)\n",
    "sigma = np.std(finLdrARR)\n",
    "num_bins = 50\n",
    "# the histogram of the data\n",
    "n, bins, patches = plt.hist(finLdrARR, num_bins, normed=1, facecolor='green', alpha=0.5)\n",
    "# add a 'best fit' line\n",
    "y = mlab.normpdf(bins, mu, sigma)\n",
    "plt.plot(bins, y, 'r--')\n",
    "plt.title(\"High Dynamic Range Data frequency\")\n",
    "plt.xlabel('Range')\n",
    "plt.ylabel('Probability')\n",
    "\n",
    "# Tweak spacing to prevent clipping of ylabel\n",
    "plt.subplots_adjust(left=0.15)\n",
    "plt.show()"
   ]
  },
  {
   "cell_type": "code",
   "execution_count": null,
   "metadata": {
    "collapsed": true
   },
   "outputs": [],
   "source": [
    "ldr_array = np.array(ldrARR)\n",
    "finLdrARR = ldr_array.ravel()\n",
    "#m3 = np.hstack((m1,m2))\n",
    "\n",
    "fig = plt.figure()\n",
    "mu = np.mean(finLdrARR)\n",
    "sigma = np.std(finLdrARR)\n",
    "num_bins = 50\n",
    "# the histogram of the data\n",
    "n, bins, patches = plt.hist(finLdrARR, num_bins, normed=1, facecolor='green', alpha=0.5)\n",
    "# add a 'best fit' line\n",
    "y = mlab.normpdf(bins, mu, sigma)\n",
    "plt.plot(bins, y, 'r--')\n",
    "plt.title(\"Low Dynamic Range Data frequency\")\n",
    "plt.xlabel('Range')\n",
    "plt.ylabel('Frequency')\n",
    "\n",
    "# Tweak spacing to prevent clipping of ylabel\n",
    "plt.subplots_adjust(left=0.15)\n",
    "plt.show()"
   ]
  },
  {
   "cell_type": "code",
   "execution_count": 3,
   "metadata": {
    "collapsed": true
   },
   "outputs": [],
   "source": [
    "import glob\n",
    "import numpy as np\n",
    "import cv2\n",
    "import re\n",
    "\n",
    "def keyFunc(afilename):\n",
    "    nondigits = re.compile(\"\\D\")\n",
    "    return int(nondigits.sub(\"\", afilename))\n",
    "    \n",
    "\n",
    "ldr_files = glob.glob('/misc/lmbraid18/bharadwk/test_hdr_rendered_image/ArlesRoom/paintroom.png')\n",
    "\n",
    "for myFile in sorted(ldr_files, key=keyFunc):\n",
    "    image = cv2.imread(myFile)\n",
    "    img_name = myFile.split('/')[6]\n",
    "    img_name = img_name.split('.')[0]\n",
    "    img_name = \"New\"+img_name\n",
    "    resized_image = cv2.resize(image, (628, 468))    \n",
    "    cv2.imwrite(\"/misc/lmbraid18/bharadwk/test_hdr_rendered_image/ArlesRoom/%s.png\" %(img_name), resized_image)"
   ]
  },
  {
   "cell_type": "code",
   "execution_count": 395,
   "metadata": {
    "scrolled": true
   },
   "outputs": [
    {
     "ename": "KeyboardInterrupt",
     "evalue": "",
     "output_type": "error",
     "traceback": [
      "\u001b[0;31m---------------------------------------------------------------------------\u001b[0m",
      "\u001b[0;31mKeyboardInterrupt\u001b[0m                         Traceback (most recent call last)",
      "\u001b[0;32m<ipython-input-395-34489030f4aa>\u001b[0m in \u001b[0;36m<module>\u001b[0;34m()\u001b[0m\n\u001b[1;32m     10\u001b[0m \u001b[0mmerge_mertens\u001b[0m \u001b[0;34m=\u001b[0m \u001b[0mcv2\u001b[0m\u001b[0;34m.\u001b[0m\u001b[0mcreateMergeMertens\u001b[0m\u001b[0;34m(\u001b[0m\u001b[0;34m)\u001b[0m\u001b[0;34m\u001b[0m\u001b[0m\n\u001b[1;32m     11\u001b[0m \u001b[0mres_mertens\u001b[0m \u001b[0;34m=\u001b[0m \u001b[0mmerge_mertens\u001b[0m\u001b[0;34m.\u001b[0m\u001b[0mprocess\u001b[0m\u001b[0;34m(\u001b[0m\u001b[0mimg\u001b[0m\u001b[0;34m)\u001b[0m\u001b[0;34m\u001b[0m\u001b[0m\n\u001b[0;32m---> 12\u001b[0;31m \u001b[0mcv2\u001b[0m\u001b[0;34m.\u001b[0m\u001b[0mimwrite\u001b[0m\u001b[0;34m(\u001b[0m\u001b[0;34m\"/misc/lmbraid18/bharadwk/dataHDR/failedCase/hdr.exr\"\u001b[0m\u001b[0;34m,\u001b[0m\u001b[0mres_mertens\u001b[0m\u001b[0;34m)\u001b[0m\u001b[0;34m\u001b[0m\u001b[0m\n\u001b[0m",
      "\u001b[0;31mKeyboardInterrupt\u001b[0m: "
     ]
    }
   ],
   "source": [
    "import cv2\n",
    "import numpy as np\n",
    "import glob\n",
    "\n",
    "img=[]\n",
    "imgList = glob.glob(\"/misc/lmbraid18/bharadwk/dataLDR/failedCase/*.JPG\")\n",
    "for images in sorted(imgList):    \n",
    "    img.append(cv2.imread(images))\n",
    "\n",
    "merge_mertens = cv2.createMergeMertens()\n",
    "res_mertens = merge_mertens.process(img)\n",
    "cv2.imwrite(\"/misc/lmbraid18/bharadwk/dataHDR/failedCase/hdr.exr\",res_mertens)"
   ]
  },
  {
   "cell_type": "code",
   "execution_count": 18,
   "metadata": {},
   "outputs": [
    {
     "data": {
      "text/plain": [
       "True"
      ]
     },
     "execution_count": 18,
     "metadata": {},
     "output_type": "execute_result"
    }
   ],
   "source": [
    "exposure_times = np.array([0.00125, 0.002, 0.0025, 0.004, 0.005, 0.008, 0.01, 0.0167, 0.02, 0.02], dtype=np.float32)\n",
    "merge_debvec = cv2.createMergeDebevec()\n",
    "hdr_debvec = merge_debvec.process(img, times=exposure_times.copy())\n",
    "cv2.imwrite(\"/misc/lmbraid18/bharadwk/dataHDR/parkinglot/hdr2.exr\",res_mertens)"
   ]
  }
 ],
 "metadata": {
  "kernelspec": {
   "display_name": "Python 3",
   "language": "python",
   "name": "python3"
  },
  "language_info": {
   "codemirror_mode": {
    "name": "ipython",
    "version": 3
   },
   "file_extension": ".py",
   "mimetype": "text/x-python",
   "name": "python",
   "nbconvert_exporter": "python",
   "pygments_lexer": "ipython3",
   "version": "3.6.3"
  }
 },
 "nbformat": 4,
 "nbformat_minor": 2
}
